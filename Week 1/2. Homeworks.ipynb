{
 "cells": [
  {
   "metadata": {},
   "cell_type": "markdown",
   "source": "## 1. First program and deployment of version control\n",
   "id": "547380ed61a886c2"
  },
  {
   "metadata": {},
   "cell_type": "markdown",
   "source": [
    "1. Install the PyCharm IDE. Write a program that greets you by your own name. If your name was Viivi Virta, the output of\n",
    "the program would be `Hello, Viivi Virta!`."
   ],
   "id": "ba034c7f0dddb369"
  },
  {
   "metadata": {},
   "cell_type": "code",
   "source": "# Write your code here....",
   "id": "646427dbdfe4ef33",
   "outputs": [],
   "execution_count": null
  }
 ],
 "metadata": {
  "kernelspec": {
   "display_name": "Python 3",
   "language": "python",
   "name": "python3"
  },
  "language_info": {
   "codemirror_mode": {
    "name": "ipython",
    "version": 2
   },
   "file_extension": ".py",
   "mimetype": "text/x-python",
   "name": "python",
   "nbconvert_exporter": "python",
   "pygments_lexer": "ipython2",
   "version": "2.7.6"
  }
 },
 "nbformat": 4,
 "nbformat_minor": 5
}
