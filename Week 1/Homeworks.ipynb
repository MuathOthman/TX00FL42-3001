{
 "cells": [
  {
   "metadata": {},
   "cell_type": "markdown",
   "source": "## 1. First program and deployment of version control\n",
   "id": "547380ed61a886c2"
  },
  {
   "metadata": {},
   "cell_type": "markdown",
   "source": [
    "1. Install the PyCharm IDE. Write a program that greets you by your own name. If your name was Viivi Virta, the output of\n",
    "the program would be `Hello, Viivi Virta!`."
   ],
   "id": "ba034c7f0dddb369"
  },
  {
   "metadata": {},
   "cell_type": "code",
   "outputs": [],
   "execution_count": null,
   "source": "#Write your code here....",
   "id": "646427dbdfe4ef33"
  },
  {
   "metadata": {},
   "cell_type": "markdown",
   "source": [
    "\n",
    "2. Create yourself a GitHub account and fork the repository for the Python exercises. Once you've done that, connect the forked repository to PyCharm so that your exercise projects are stored there. Make sure that you are able to *pull*, *commit*, and *push* your changes to the repository. Finally, return your forked repository link here.\n"
   ],
   "id": "24a059c17c03b13a"
  },
  {
   "metadata": {},
   "cell_type": "code",
   "outputs": [],
   "execution_count": null,
   "source": "#Write your GitHub username here...",
   "id": "8da781dc3ba45923"
  }
 ],
 "metadata": {
  "kernelspec": {
   "display_name": "Python 3",
   "language": "python",
   "name": "python3"
  },
  "language_info": {
   "codemirror_mode": {
    "name": "ipython",
    "version": 2
   },
   "file_extension": ".py",
   "mimetype": "text/x-python",
   "name": "python",
   "nbconvert_exporter": "python",
   "pygments_lexer": "ipython2",
   "version": "2.7.6"
  }
 },
 "nbformat": 4,
 "nbformat_minor": 5
}
